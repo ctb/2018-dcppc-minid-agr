{
 "cells": [
  {
   "cell_type": "markdown",
   "metadata": {},
   "source": [
    "# Run me live by clicking on [\"launch binder\"](https://mybinder.org/v2/gh/ctb/2018-dcppc-minid-agr/master?filepath=index.ipynb)!\n",
    "\n",
    "[![Binder](https://mybinder.org/badge.svg)](https://mybinder.org/v2/gh/ctb/2018-dcppc-minid-agr/master?filepath=index.ipynb)"
   ]
  },
  {
   "cell_type": "markdown",
   "metadata": {},
   "source": [
    "When you run this live, click the 'Run' button or use Shift-ENTER to advance through cells."
   ]
  },
  {
   "cell_type": "code",
   "execution_count": 1,
   "metadata": {},
   "outputs": [
    {
     "name": "stdout",
     "output_type": "stream",
     "text": [
      "2018-03-20 00:58:50,282 - INFO - Checking if the entity minid:b9j69h already exists on the server: http://minid.bd2k.org/minid\n",
      "Identifier: ark:/57799/b9j69h\n",
      "Created by: mdarcy (0000-0003-2280-917X)\n",
      "Created: Mon, 19 Mar 2018 17:43:57 GMT\n",
      "Checksum: 6484968f81afac84857d02b573b0d589fb2f9582a2b920572830dc5781e0a53c\n",
      "Status: ACTIVE\n",
      "Locations:\n",
      "  mdarcy - https://nih-commons.s3.amazonaws.com/misc/agr-example.tgz\n",
      "Title:\n",
      "  mdarcy - AGR Data set with identifier-based references to data in cloud storage\n",
      "\n",
      "\n"
     ]
    }
   ],
   "source": [
    "!minid minid:b9j69h"
   ]
  }
 ],
 "metadata": {
  "kernelspec": {
   "display_name": "Python 3",
   "language": "python",
   "name": "python3"
  },
  "language_info": {
   "codemirror_mode": {
    "name": "ipython",
    "version": 3
   },
   "file_extension": ".py",
   "mimetype": "text/x-python",
   "name": "python",
   "nbconvert_exporter": "python",
   "pygments_lexer": "ipython3",
   "version": "3.6.3"
  }
 },
 "nbformat": 4,
 "nbformat_minor": 2
}
